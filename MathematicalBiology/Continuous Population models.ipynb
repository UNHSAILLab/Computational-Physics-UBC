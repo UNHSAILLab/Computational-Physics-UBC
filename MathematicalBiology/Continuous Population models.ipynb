{
 "cells": [
  {
   "cell_type": "code",
   "execution_count": 1,
   "id": "5714d388",
   "metadata": {},
   "outputs": [],
   "source": [
    "import numpy as np\n",
    "import matplotlib.pyplot as plt"
   ]
  },
  {
   "cell_type": "markdown",
   "id": "a1ad30f6",
   "metadata": {},
   "source": [
    "## Verhulst Model"
   ]
  },
  {
   "cell_type": "code",
   "execution_count": 36,
   "id": "c93e41e8",
   "metadata": {},
   "outputs": [],
   "source": [
    "N = 1\n",
    "K = 20\n",
    "r = 0.5\n",
    "dt = 0.001\n",
    "t = 50\n",
    "N_t = int(t/dt)\n",
    "N_List = np.zeros(N_t)\n",
    "\n",
    "for i in range(N_t):\n",
    "    N += r*N*(1-N/K)*dt\n",
    "    \n",
    "    N_List[i] = N"
   ]
  },
  {
   "cell_type": "code",
   "execution_count": 37,
   "id": "5127d0ae",
   "metadata": {},
   "outputs": [
    {
     "data": {
      "text/plain": [
       "[<matplotlib.lines.Line2D at 0x7fbae45c0340>]"
      ]
     },
     "execution_count": 37,
     "metadata": {},
     "output_type": "execute_result"
    },
    {
     "data": {
      "image/png": "[encoded data removed]",
      "text/plain": [
       "<Figure size 432x288 with 1 Axes>"
      ]
     },
     "metadata": {
      "needs_background": "light"
     },
     "output_type": "display_data"
    }
   ],
   "source": [
    "plt.plot(N_List)"
   ]
  },
  {
   "cell_type": "code",
   "execution_count": null,
   "id": "6103a3c0",
   "metadata": {},
   "outputs": [],
   "source": []
  },
  {
   "cell_type": "code",
   "execution_count": null,
   "id": "055c1a1b",
   "metadata": {},
   "outputs": [],
   "source": []
  }
 ],
 "metadata": {
  "kernelspec": {
   "display_name": "Python 3 (ipykernel)",
   "language": "python",
   "name": "python3"
  },
  "language_info": {
   "codemirror_mode": {
    "name": "ipython",
    "version": 3
   },
   "file_extension": ".py",
   "mimetype": "text/x-python",
   "name": "python",
   "nbconvert_exporter": "python",
   "pygments_lexer": "ipython3",
   "version": "3.8.10"
  }
 },
 "nbformat": 4,
 "nbformat_minor": 5
}
