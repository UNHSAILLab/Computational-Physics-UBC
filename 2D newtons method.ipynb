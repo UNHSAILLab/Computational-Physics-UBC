{
 "cells": [
  {
   "cell_type": "markdown",
   "id": "00d4ad66-564f-49c9-9beb-61928d56ca78",
   "metadata": {},
   "source": [
    "import numpy as np\n",
    "import matplotlib.pyplot as plt"
   ]
  },
  {
   "cell_type": "markdown",
   "id": "cb29a1da-7ce5-4874-aaad-89e3ec5b192b",
   "metadata": {},
   "source": [
    "## 2D Newton's method\n",
    "\n",
    "$X_{n+1} = X_{n} + \\frac{f(x_n)}{f'(x_n)}$\n",
    "\n",
    "$\\delta x = \\frac{f(x_n)}{f'(x_n)}$\n",
    "\n",
    "$\\rightarrow \\delta x = f(x_n) J^{-1}(x_n) $;\n",
    "\n",
    "$J(x_n)$ is the Jacobian matrix evaluated at $x_n$\n",
    "\n",
    "$f(x_n)$ is the vector function $\\rightarrow (f_1,f_2,f_3,...)$"
   ]
  },
  {
   "cell_type": "markdown",
   "id": "b99cc941-e7a5-4c41-8dd4-8c3bace722c8",
   "metadata": {},
   "source": [
    "## Example\n",
    "$f_1(x,y) = x^2 + y^2 - 3 = 0$\n",
    "\n",
    "$f_2(x,y) = -2x^2 - 0.5y^2 + 2 = 0$\n",
    "\n",
    "\n",
    "Let's calcualte the Jacobian matrix\n",
    "\n",
    "\n",
    "\\begin{equation*}\n",
    "J_{2,2} = \n",
    "\\begin{pmatrix}\n",
    "\\partial_{x_1}f_1 & \\partial_{x_2}f_1 \\\\\n",
    "\\partial_{x_1}f_2 & \\partial_{x_2}f_2\n",
    "\\end{pmatrix}\n",
    "\\end{equation*}\n",
    "\n",
    "So we will have: \n",
    "\n",
    "\n",
    "\\begin{equation*}\n",
    "J_{2,2} = \n",
    "\\begin{pmatrix}\n",
    "2x & 2y \\\\\n",
    "-4x & -y\n",
    "\\end{pmatrix}\n",
    "\\end{equation*}\n",
    "\n",
    "and\n",
    "\n",
    "\\begin{equation*}\n",
    "F_{2,1} = \n",
    "\\begin{pmatrix}\n",
    "x^2+y^2-3\\\\\n",
    "-2x^2-0.5y^2+2\n",
    "\\end{pmatrix}\n",
    "\\end{equation*}\n",
    "\n"
   ]
  },
  {
   "cell_type": "code",
   "execution_count": 37,
   "id": "4f20554e-e86e-49ce-a08f-45d2ea8ce3f5",
   "metadata": {},
   "outputs": [],
   "source": [
    "def J(x,y):\n",
    "    return np.array([[2*x,2*y],[-4*x,-y]])\n",
    "\n",
    "def F(x,y):\n",
    "    return np.array([[x**2+y**2-3],[-2*x**2 - 0.5*y**2 + 2]])"
   ]
  },
  {
   "cell_type": "code",
   "execution_count": 43,
   "id": "5d7fea65-7a34-4dfc-8726-10eaa8f060d2",
   "metadata": {},
   "outputs": [],
   "source": [
    "x = 1\n",
    "y = 1\n",
    "iteration = 3\n",
    "\n",
    "for i in range(iteration):\n",
    "    deltaX = np.matmul(np.linalg.inv(J(x,y)),F(x,y))\n",
    "    x = x - deltaX[0][0]\n",
    "    y = y - deltaX[1][0]"
   ]
  },
  {
   "cell_type": "code",
   "execution_count": 45,
   "id": "d203fe63-9940-432b-9ce5-e5d8376b5146",
   "metadata": {},
   "outputs": [
    {
     "data": {
      "text/plain": [
       "(0.5773809523809524, 1.6330296048037982)"
      ]
     },
     "execution_count": 45,
     "metadata": {},
     "output_type": "execute_result"
    }
   ],
   "source": [
    "x,y"
   ]
  },
  {
   "cell_type": "code",
   "execution_count": null,
   "id": "032ae336-10a7-4c2f-bff1-11a16c3b9a00",
   "metadata": {},
   "outputs": [],
   "source": []
  }
 ],
 "metadata": {
  "kernelspec": {
   "display_name": "Python 3",
   "language": "python",
   "name": "python3"
  },
  "language_info": {
   "codemirror_mode": {
    "name": "ipython",
    "version": 3
   },
   "file_extension": ".py",
   "mimetype": "text/x-python",
   "name": "python",
   "nbconvert_exporter": "python",
   "pygments_lexer": "ipython3",
   "version": "3.6.13"
  }
 },
 "nbformat": 4,
 "nbformat_minor": 5
}
