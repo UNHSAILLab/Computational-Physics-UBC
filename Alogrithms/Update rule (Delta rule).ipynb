{
 "cells": [
  {
   "cell_type": "code",
   "execution_count": 1,
   "id": "b637b452",
   "metadata": {},
   "outputs": [],
   "source": [
    "import numpy as np\n",
    "import matplotlib.pyplot as plt"
   ]
  },
  {
   "cell_type": "code",
   "execution_count": 8,
   "id": "65093546",
   "metadata": {},
   "outputs": [],
   "source": [
    "f_init = 14\n",
    "f_set = 4\n",
    "alpha = 0.1\n",
    "iteration = 100\n",
    "f_list = []\n"
   ]
  },
  {
   "cell_type": "code",
   "execution_count": 9,
   "id": "dfea8dcb",
   "metadata": {},
   "outputs": [],
   "source": [
    "f_new = f_init\n",
    "f_old = f_init\n",
    "for i in range(iteration):\n",
    "    f_new = f_old + alpha*(f_set - f_old)\n",
    "    f_list.append(f_new)\n",
    "    f_old = f_new"
   ]
  },
  {
   "cell_type": "code",
   "execution_count": 10,
   "id": "06f0c1b4",
   "metadata": {},
   "outputs": [
    {
     "data": {
      "text/plain": [
       "[<matplotlib.lines.Line2D at 0x7fe847196cc0>]"
      ]
     },
     "execution_count": 10,
     "metadata": {},
     "output_type": "execute_result"
    },
    {
     "data": {
      "image/png": "[encoded data removed]",
      "text/plain": [
       "<Figure size 432x288 with 1 Axes>"
      ]
     },
     "metadata": {
      "needs_background": "light"
     },
     "output_type": "display_data"
    }
   ],
   "source": [
    "plt.plot(f_list)"
   ]
  },
  {
   "cell_type": "markdown",
   "id": "708b7bb5",
   "metadata": {},
   "source": [
    "# Why is that happening?"
   ]
  },
  {
   "cell_type": "markdown",
   "id": "55ce4987",
   "metadata": {},
   "source": [
    "$$F[n+1] = F[n] + \\alpha(F^{*} - F[n]) $$\n",
    "$$ F[n+1] - F[n] = \\alpha(F^{*} - F[n]) $$\n",
    "$$ \\frac{\\partial F}{\\partial t} = \\alpha(F^{*} - F[n])$$\n",
    "$$G = F^{*} - F[n]$$\n",
    "$$ \\frac{\\partial G}{\\partial t} = - \\frac{\\partial F}{\\partial t}$$\n",
    "$$ \\frac{\\partial G}{\\partial t} = - \\alpha G$$\n",
    "\n",
    "So G will to towards zero exponantially. So $$ F^{*} - F[n] $$ will drop to zero exponantailly."
   ]
  },
  {
   "cell_type": "markdown",
   "id": "19f03618",
   "metadata": {},
   "source": [
    "$$F[n+1] = F[n] + \\alpha(F^{*} - F[n]) $$"
   ]
  },
  {
   "cell_type": "code",
   "execution_count": null,
   "id": "34909dde",
   "metadata": {},
   "outputs": [],
   "source": []
  }
 ],
 "metadata": {
  "kernelspec": {
   "display_name": "Python 3",
   "language": "python",
   "name": "python3"
  },
  "language_info": {
   "codemirror_mode": {
    "name": "ipython",
    "version": 3
   },
   "file_extension": ".py",
   "mimetype": "text/x-python",
   "name": "python",
   "nbconvert_exporter": "python",
   "pygments_lexer": "ipython3",
   "version": "3.6.13"
  }
 },
 "nbformat": 4,
 "nbformat_minor": 5
}
