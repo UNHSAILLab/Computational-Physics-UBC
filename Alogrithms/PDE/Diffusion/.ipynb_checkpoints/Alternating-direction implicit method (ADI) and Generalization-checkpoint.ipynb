{
 "cells": [
  {
   "cell_type": "code",
   "execution_count": 24,
   "id": "4facb5d6",
   "metadata": {},
   "outputs": [],
   "source": [
    "import numpy as np\n",
    "import matplotlib.pyplot as plt\n",
    "from scipy.sparse import spdiags\n",
    "from scipy.sparse.linalg import inv\n",
    "import scipy as scp"
   ]
  },
  {
   "cell_type": "code",
   "execution_count": 20,
   "id": "2e7c8d76",
   "metadata": {},
   "outputs": [],
   "source": [
    "dx = 1e-3\n",
    "dy = dx\n",
    "dt = 1e-3\n",
    "D = 1\n",
    "alpha =  D*dt/dx**2\n",
    "\n",
    "tEnd = 1\n",
    "xEnd = 1\n",
    "yEnd = 1\n",
    "\n",
    "xList = np.arange(0,xEnd+dx,dx)\n",
    "yList = np.arange(0,yEnd+dy,dy)\n",
    "X,Y = np.meshgrid(xList, yList)\n",
    "tList = np.arange(0,tEnd, dt)\n",
    "M = xList.shape[0]\n",
    "N = tList.shape[0]"
   ]
  },
  {
   "cell_type": "code",
   "execution_count": 22,
   "id": "cdc5e0dc",
   "metadata": {},
   "outputs": [
    {
     "data": {
      "text/plain": [
       "<matplotlib.contour.QuadContourSet at 0x7f40e6e263d0>"
      ]
     },
     "execution_count": 22,
     "metadata": {},
     "output_type": "execute_result"
    },
    {
     "data": {
      "image/png": "[encoded data removed]",
      "text/plain": [
       "<Figure size 432x288 with 1 Axes>"
      ]
     },
     "metadata": {
      "needs_background": "light"
     },
     "output_type": "display_data"
    }
   ],
   "source": [
    "F = np.exp(-((X-0.5)**2+(Y-0.5)**2)/(0.5)**2)\n",
    "F_data = np.zeros((M,M,N))\n",
    "\n",
    "plt.contourf(F)"
   ]
  },
  {
   "cell_type": "code",
   "execution_count": 14,
   "id": "9c6c72d0",
   "metadata": {},
   "outputs": [
    {
     "data": {
      "text/plain": [
       "array([[ 1.,  0.,  0., ...,  0.,  0.,  0.],\n",
       "       [ 1., -2.,  1., ...,  0.,  0.,  0.],\n",
       "       [ 0.,  1., -2., ...,  0.,  0.,  0.],\n",
       "       ...,\n",
       "       [ 0.,  0.,  0., ..., -2.,  1.,  0.],\n",
       "       [ 0.,  0.,  0., ...,  1., -2.,  1.],\n",
       "       [ 0.,  0.,  0., ...,  0.,  0.,  1.]])"
      ]
     },
     "execution_count": 14,
     "metadata": {},
     "output_type": "execute_result"
    }
   ],
   "source": [
    "upDiag = np.ones(M)\n",
    "Diag = np.ones(M)*(-2)\n",
    "lowDiag = np.ones(M)\n",
    "\n",
    "upDiag[1] = 0\n",
    "lowDiag[-2] = 0\n",
    "Diag[0] = 1\n",
    "Diag[-1] = 1\n",
    "\n",
    "delta = spdiags([lowDiag, Diag, upDiag],[-1,0,1],M,M)\n",
    "mat = Mat.toarray()\n",
    "mat"
   ]
  },
  {
   "cell_type": "code",
   "execution_count": 25,
   "id": "3cdb93e4",
   "metadata": {},
   "outputs": [],
   "source": [
    "D = scp.sparse.eye(M) + alpha/2 * Mat\n",
    "D_tilda = scp.sparse.eye(M) - alpha/2 * Mat"
   ]
  },
  {
   "cell_type": "code",
   "execution_count": null,
   "id": "915546a8",
   "metadata": {},
   "outputs": [],
   "source": [
    "for t in range(N):\n",
    "    F = inv(D_tilda)"
   ]
  },
  {
   "cell_type": "code",
   "execution_count": null,
   "id": "de3d40c7",
   "metadata": {},
   "outputs": [],
   "source": []
  },
  {
   "cell_type": "code",
   "execution_count": null,
   "id": "fd2794c6",
   "metadata": {},
   "outputs": [],
   "source": []
  }
 ],
 "metadata": {
  "kernelspec": {
   "display_name": "Python 3 (ipykernel)",
   "language": "python",
   "name": "python3"
  },
  "language_info": {
   "codemirror_mode": {
    "name": "ipython",
    "version": 3
   },
   "file_extension": ".py",
   "mimetype": "text/x-python",
   "name": "python",
   "nbconvert_exporter": "python",
   "pygments_lexer": "ipython3",
   "version": "3.8.10"
  }
 },
 "nbformat": 4,
 "nbformat_minor": 5
}
