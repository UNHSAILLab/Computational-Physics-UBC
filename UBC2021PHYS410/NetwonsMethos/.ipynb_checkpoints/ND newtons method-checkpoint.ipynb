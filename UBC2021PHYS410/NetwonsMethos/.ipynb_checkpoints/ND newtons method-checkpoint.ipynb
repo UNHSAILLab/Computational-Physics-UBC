{
 "cells": [
  {
   "cell_type": "code",
   "execution_count": 3,
   "id": "6ff3ffd2-2550-4b1b-b0c1-85f38f75148f",
   "metadata": {},
   "outputs": [],
   "source": [
    "import numpy as np\n",
    "import matplotlib.pyplot as plt"
   ]
  },
  {
   "cell_type": "markdown",
   "id": "cb29a1da-7ce5-4874-aaad-89e3ec5b192b",
   "metadata": {},
   "source": [
    "## 2D Newton's method\n",
    "\n",
    "\n",
    "\n",
    "\n",
    "In the general sence and view, newton's method try to find the root using following algorithm (gif from Newton's method wikipedia)\n",
    "<p><a href=\"https://commons.wikimedia.org/wiki/File:NewtonIteration_Ani.gif#/media/File:NewtonIteration_Ani.gif\"><img src=\"https://upload.wikimedia.org/wikipedia/commons/e/e0/NewtonIteration_Ani.gif\" alt=\"Illustration of Newton's method\"></a>\n",
    "\n",
    "    \n",
    "So in each step we draw a tangent to the function at $X_n$ and find the point that the straight line cuts x axis (root of that line). That point will be $X_{n+1}$\n",
    "    "
   ]
  },
  {
   "cell_type": "markdown",
   "id": "72438af0-ae93-43d1-8985-0b2fb443744f",
   "metadata": {},
   "source": [
    "$F(X) = (f_1, f_2, f_3, ...)^T$\n",
    "\n",
    "\n",
    "$X = (x1,x2,x3,...)$\n",
    "\n",
    "when we want to find the root of $F(X)$, then we set $F(X)=0$\n",
    "\n",
    "\n",
    "Reminder of Jacobian Matrix:\n",
    "\n",
    "\n",
    "\n",
    "\\begin{equation*}\n",
    "J_{2,2} = \n",
    "\\begin{pmatrix}\n",
    "\\partial_{x_1}f_1 & \\partial_{x_2}f_1 \\\\\n",
    "\\partial_{x_1}f_2 & \\partial_{x_2}f_2\n",
    "\\end{pmatrix}\n",
    "\\end{equation*}"
   ]
  },
  {
   "cell_type": "markdown",
   "id": "4b9608fe-510e-4663-99f3-176d2f961071",
   "metadata": {},
   "source": [
    "\n",
    "line equation: $Y-Y_0 = J(X-X_0)$ \n",
    "\n",
    "in which $J$ is the Jacobian matrix, $Y_0$ is $F(X_n)$ and $X_0$ is $X_n$. So we will have:\n",
    "\n",
    "$y = J(X-X_n) + F(X_n)$\n",
    "\n",
    "now if we set $y= 0$ (to find the root of the tangent line), and solve for $\\Delta X = X - X_n$, we will have:\n",
    "\n",
    "$\\Delta X = - J^{-1}(X_n) F(X_n)$\n",
    "\n",
    "Now we can update the value of $X_n$ using $\\Delta X$. (Since $X_{n+1}$ is the root of tangent line)\n",
    "\n",
    "$X_{n+1} = X_{n} + \\Delta X$\n",
    "    "
   ]
  },
  {
   "cell_type": "markdown",
   "id": "b99cc941-e7a5-4c41-8dd4-8c3bace722c8",
   "metadata": {},
   "source": [
    "## Example 1\n",
    "\n",
    "Note: see the examples here: https://ece.uwaterloo.ca/~dwharder/NumericalAnalysis/10RootFinding/newtonND/\n",
    "\n",
    "$f_1(x,y) = x^2 + y^2 - 3 = 0$\n",
    "\n",
    "$f_2(x,y) = -2x^2 - 0.5y^2 + 2 = 0$\n",
    "\n",
    "\n",
    "Let's calcualte the Jacobian matrix\n",
    "\n",
    "\n",
    "So we will have: \n",
    "\n",
    "\n",
    "\\begin{equation*}\n",
    "J_{2,2} = \n",
    "\\begin{pmatrix}\n",
    "2x & 2y \\\\\n",
    "-4x & -y\n",
    "\\end{pmatrix}\n",
    "\\end{equation*}\n",
    "\n",
    "and\n",
    "\n",
    "\\begin{equation*}\n",
    "F_{2,1} = \n",
    "\\begin{pmatrix}\n",
    "x^2+y^2-3\\\\\n",
    "-2x^2-0.5y^2+2\n",
    "\\end{pmatrix}\n",
    "\\end{equation*}\n",
    "\n"
   ]
  },
  {
   "cell_type": "code",
   "execution_count": 20,
   "id": "4f20554e-e86e-49ce-a08f-45d2ea8ce3f5",
   "metadata": {},
   "outputs": [],
   "source": [
    "def J(X):\n",
    "    return np.array([[2*X[0][0],2*X[1][0]],[-4*X[0][0],-X[1][0]]])\n",
    "\n",
    "def F(X):\n",
    "    return np.array([[X[0][0]**2+X[1][0]**2-3],[-2*X[0][0]**2 - 0.5*X[1][0]**2 + 2]])"
   ]
  },
  {
   "cell_type": "code",
   "execution_count": 21,
   "id": "5d7fea65-7a34-4dfc-8726-10eaa8f060d2",
   "metadata": {},
   "outputs": [],
   "source": [
    "X = np.array((1,1)).reshape((2,1))\n",
    "iteration = 5\n",
    "\n",
    "for i in range(iteration):\n",
    "    deltaX = np.matmul(np.linalg.inv(J(X)),F(X))\n",
    "    X = X - deltaX"
   ]
  },
  {
   "cell_type": "code",
   "execution_count": 22,
   "id": "d203fe63-9940-432b-9ce5-e5d8376b5146",
   "metadata": {},
   "outputs": [
    {
     "data": {
      "text/plain": [
       "array([[0.57735027],\n",
       "       [1.63299316]])"
      ]
     },
     "execution_count": 22,
     "metadata": {},
     "output_type": "execute_result"
    }
   ],
   "source": [
    "X"
   ]
  },
  {
   "cell_type": "code",
   "execution_count": 17,
   "id": "032ae336-10a7-4c2f-bff1-11a16c3b9a00",
   "metadata": {},
   "outputs": [
    {
     "data": {
      "text/plain": [
       "array([[0.],\n",
       "       [0.]])"
      ]
     },
     "execution_count": 17,
     "metadata": {},
     "output_type": "execute_result"
    }
   ],
   "source": [
    "F(X)"
   ]
  },
  {
   "cell_type": "markdown",
   "id": "d1d58dc5-8823-43b8-b262-b1918ba89025",
   "metadata": {},
   "source": [
    "## Example 2"
   ]
  },
  {
   "cell_type": "markdown",
   "id": "1c52eb86-3a05-457c-9a0f-feecde599fbe",
   "metadata": {},
   "source": [
    "\n",
    "\\begin{equation*}\n",
    "J_{2,2} = \n",
    "\\begin{pmatrix}\n",
    "2x-y & 2y-x \\\\\n",
    "1-y& 1-x\n",
    "\\end{pmatrix}\n",
    "\\end{equation*}\n",
    "\n",
    "and\n",
    "\n",
    "\\begin{equation*}\n",
    "F_{2,1} = \n",
    "\\begin{pmatrix}\n",
    "x^2-xy+y^2-3\\\\\n",
    "x+y-xy\n",
    "\\end{pmatrix}\n",
    "\\end{equation*}\n"
   ]
  },
  {
   "cell_type": "code",
   "execution_count": 23,
   "id": "84a6705f-a1f5-4f27-a633-4895b59e7b2d",
   "metadata": {},
   "outputs": [],
   "source": [
    "def J(X):\n",
    "    return np.array([[2*X[0][0]-X[1][0],2*X[1][0]-X[0][0]],[1-X[1][0],1-X[0][0]]])\n",
    "\n",
    "def F(Y):\n",
    "    return np.array([[X[0][0]**2-X[0][0]*X[1][0]+X[1][0]**2-3],[X[0][0]+X[1][0]-X[0][0]*X[1][0]]])"
   ]
  },
  {
   "cell_type": "code",
   "execution_count": 28,
   "id": "6dad8d9a-ceb1-4c3e-b0c1-e54b4ca7cba8",
   "metadata": {},
   "outputs": [],
   "source": [
    "X = np.array((-1.5,0.5)).reshape((2,1))\n",
    "iteration = 5\n",
    "\n",
    "for i in range(iteration):\n",
    "    deltaX = np.matmul(np.linalg.inv(J(X)),F(X))\n",
    "    X = X - deltaX"
   ]
  },
  {
   "cell_type": "code",
   "execution_count": 29,
   "id": "018257be-a2c7-48f3-a561-1707fb6feeae",
   "metadata": {},
   "outputs": [
    {
     "data": {
      "text/plain": [
       "array([[-1.36920541],\n",
       "       [ 0.57791756]])"
      ]
     },
     "execution_count": 29,
     "metadata": {},
     "output_type": "execute_result"
    }
   ],
   "source": [
    "X"
   ]
  },
  {
   "cell_type": "code",
   "execution_count": 30,
   "id": "d0d4509a-31e4-439d-9956-f917695d93f9",
   "metadata": {},
   "outputs": [
    {
     "data": {
      "text/plain": [
       "array([[ 4.44089210e-16],\n",
       "       [-1.11022302e-16]])"
      ]
     },
     "execution_count": 30,
     "metadata": {},
     "output_type": "execute_result"
    }
   ],
   "source": [
    "F(X)"
   ]
  },
  {
   "cell_type": "code",
   "execution_count": null,
   "id": "b086c681-35a6-4dfd-afca-08244cffa975",
   "metadata": {},
   "outputs": [],
   "source": []
  }
 ],
 "metadata": {
  "kernelspec": {
   "display_name": "Python 3",
   "language": "python",
   "name": "python3"
  },
  "language_info": {
   "codemirror_mode": {
    "name": "ipython",
    "version": 3
   },
   "file_extension": ".py",
   "mimetype": "text/x-python",
   "name": "python",
   "nbconvert_exporter": "python",
   "pygments_lexer": "ipython3",
   "version": "3.6.13"
  }
 },
 "nbformat": 4,
 "nbformat_minor": 5
}
