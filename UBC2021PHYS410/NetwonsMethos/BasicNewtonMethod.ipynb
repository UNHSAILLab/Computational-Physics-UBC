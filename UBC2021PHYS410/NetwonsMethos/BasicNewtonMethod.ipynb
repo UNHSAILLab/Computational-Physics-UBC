{
 "cells": [
  {
   "cell_type": "code",
   "execution_count": 1,
   "id": "edf8e656",
   "metadata": {},
   "outputs": [],
   "source": [
    "import numpy as np\n",
    "import matplotlib.pyplot as plt"
   ]
  },
  {
   "cell_type": "markdown",
   "id": "d7d40320",
   "metadata": {},
   "source": [
    "## Newton's Method \n",
    "\n",
    "\n",
    "$X_{n+1} = X_{n} + \\dfrac{f'(x_n)}{f(x_n)}$"
   ]
  },
  {
   "cell_type": "markdown",
   "id": "1c57a1a8",
   "metadata": {},
   "source": [
    "## Example: $\\sqrt{2} = ?$\n",
    "\n",
    "$f(x) = 2 - x^2 = 0$\n",
    "\n",
    "$f'(x) = -2x $"
   ]
  },
  {
   "cell_type": "code",
   "execution_count": 10,
   "id": "78e731c1",
   "metadata": {},
   "outputs": [],
   "source": [
    "def f(x):\n",
    "    return 2 - x**2\n",
    "def df(x):\n",
    "    return -2*x"
   ]
  },
  {
   "cell_type": "code",
   "execution_count": 46,
   "id": "d04d84ca",
   "metadata": {},
   "outputs": [],
   "source": [
    "iteration = 10\n",
    "i_list = []\n",
    "x = 125\n",
    "x_list = []\n",
    "for i in range(iteration):\n",
    "    x_list.append(x)\n",
    "    i_list.append(i)\n",
    "    x = x - f(x)/df(x)"
   ]
  },
  {
   "cell_type": "code",
   "execution_count": 48,
   "id": "02707ccf",
   "metadata": {},
   "outputs": [
    {
     "name": "stderr",
     "output_type": "stream",
     "text": [
      "/home/alifele/anaconda3/envs/CompPhys/lib/python3.6/site-packages/ipykernel_launcher.py:3: RuntimeWarning: divide by zero encountered in log\n",
      "  This is separate from the ipykernel package so we can avoid doing imports until\n"
     ]
    },
    {
     "data": {
      "text/plain": [
       "[<matplotlib.lines.Line2D at 0x7f0ecb1e0160>]"
      ]
     },
     "execution_count": 48,
     "metadata": {},
     "output_type": "execute_result"
    },
    {
     "data": {
      "image/png": "[encoded data removed]",
      "text/plain": [
       "<Figure size 432x288 with 1 Axes>"
      ]
     },
     "metadata": {
      "needs_background": "light"
     },
     "output_type": "display_data"
    }
   ],
   "source": [
    "x_list  = np.array(x_list)\n",
    "xarange = np.arange(0,2,0.01)\n",
    "plt.plot(np.log(i_list), np.log(x_list))"
   ]
  },
  {
   "cell_type": "code",
   "execution_count": 40,
   "id": "22a33500",
   "metadata": {},
   "outputs": [
    {
     "data": {
      "text/plain": [
       "array([0.5       , 2.25      , 1.56944444, 1.42189036, 1.41423429,\n",
       "       1.41421356, 1.41421356, 1.41421356, 1.41421356, 1.41421356])"
      ]
     },
     "execution_count": 40,
     "metadata": {},
     "output_type": "execute_result"
    }
   ],
   "source": [
    "x_list"
   ]
  },
  {
   "cell_type": "code",
   "execution_count": null,
   "id": "be1d542f",
   "metadata": {},
   "outputs": [],
   "source": []
  }
 ],
 "metadata": {
  "kernelspec": {
   "display_name": "Python 3",
   "language": "python",
   "name": "python3"
  },
  "language_info": {
   "codemirror_mode": {
    "name": "ipython",
    "version": 3
   },
   "file_extension": ".py",
   "mimetype": "text/x-python",
   "name": "python",
   "nbconvert_exporter": "python",
   "pygments_lexer": "ipython3",
   "version": "3.6.13"
  }
 },
 "nbformat": 4,
 "nbformat_minor": 5
}
