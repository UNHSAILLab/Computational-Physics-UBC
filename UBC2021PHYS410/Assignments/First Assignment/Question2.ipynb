{
 "cells": [
  {
   "cell_type": "code",
   "execution_count": 1,
   "id": "d8842529",
   "metadata": {},
   "outputs": [],
   "source": [
    "import numpy as np\n",
    "import matplotlib.pyplot as plt"
   ]
  },
  {
   "cell_type": "code",
   "execution_count": 68,
   "id": "6f3b80bb",
   "metadata": {},
   "outputs": [],
   "source": [
    "def F(X):\n",
    "    x = X[0][0]\n",
    "    y = X[1][0]\n",
    "    z = X[2][0]\n",
    "    f1 = x**2 + y**3 + z**4 -1\n",
    "    f2 = np.sin(x*y*z)-x-y-z\n",
    "    f3 = x - y*z\n",
    "\n",
    "#     #For Test\n",
    "#     f1 = 2*x + y + z/2\n",
    "#     f2 = 2*y + x/2 + z\n",
    "#     f3 = 2*z - x - y\n",
    "    \n",
    "    return np.array([f1,f2,f3]).reshape((3,1))\n",
    "\n",
    "def FatDelta(X, fNumber, varNumber, dh): # varNumber is the varible that varies. if var = 1 then this function returns rondF/rondx\n",
    "    Xnew = np.copy(X)\n",
    "    Xnew[varNumber] += dh\n",
    "    return F(Xnew)[fNumber][0]\n",
    "\n",
    "def J(X):\n",
    "    n = 3\n",
    "    result = np.zeros((n,n), dtype='float64')\n",
    "    \n",
    "    for i in range(n):\n",
    "        for j in range(n):\n",
    "            result[i,j] = (FatDelta(X,i,j,dh) - F(X)[i][0])/dh\n",
    "            \n",
    "    return result"
   ]
  },
  {
   "cell_type": "code",
   "execution_count": 79,
   "id": "64f55e86",
   "metadata": {},
   "outputs": [],
   "source": [
    "dh = 0.00001\n",
    "Error = 1E-8\n",
    "max_iteration = 50\n",
    "X = np.array([1,1,1], dtype='float64').reshape((3,1))"
   ]
  },
  {
   "cell_type": "code",
   "execution_count": 92,
   "id": "bd7a258a",
   "metadata": {},
   "outputs": [],
   "source": [
    "def runNewton(X, dh, Error, max_iteration):\n",
    "    deltaX = 2*Error\n",
    "    iteration = 0\n",
    "    while(np.linalg.norm(X)>Error and np.linalg.norm(X)!=0 and iteration<max_iteration):\n",
    "        deltaX = np.matmul(np.linalg.inv(J(X)), F(X))\n",
    "        X -= deltaX\n",
    "        iteration+=1\n",
    "        \n",
    "    return X"
   ]
  },
  {
   "cell_type": "code",
   "execution_count": 93,
   "id": "9563795f",
   "metadata": {},
   "outputs": [
    {
     "data": {
      "text/plain": [
       "array([[ 2.31551842],\n",
       "       [-1.88117378],\n",
       "       [-1.23089023]])"
      ]
     },
     "execution_count": 93,
     "metadata": {},
     "output_type": "execute_result"
    }
   ],
   "source": [
    "Root = runNewton(X, dh, Error, max_iteration)\n",
    " "
   ]
  },
  {
   "cell_type": "code",
   "execution_count": null,
   "id": "14bf4544",
   "metadata": {},
   "outputs": [],
   "source": []
  },
  {
   "cell_type": "code",
   "execution_count": null,
   "id": "f7c7e501",
   "metadata": {},
   "outputs": [],
   "source": []
  },
  {
   "cell_type": "code",
   "execution_count": null,
   "id": "b85379f4",
   "metadata": {},
   "outputs": [],
   "source": []
  },
  {
   "cell_type": "code",
   "execution_count": null,
   "id": "8f09dc5f",
   "metadata": {},
   "outputs": [],
   "source": []
  }
 ],
 "metadata": {
  "kernelspec": {
   "display_name": "Python 3",
   "language": "python",
   "name": "python3"
  },
  "language_info": {
   "codemirror_mode": {
    "name": "ipython",
    "version": 3
   },
   "file_extension": ".py",
   "mimetype": "text/x-python",
   "name": "python",
   "nbconvert_exporter": "python",
   "pygments_lexer": "ipython3",
   "version": "3.6.13"
  }
 },
 "nbformat": 4,
 "nbformat_minor": 5
}
