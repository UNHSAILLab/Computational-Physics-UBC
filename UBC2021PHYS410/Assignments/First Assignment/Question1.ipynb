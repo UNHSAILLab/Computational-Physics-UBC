{
 "cells": [
  {
   "cell_type": "code",
   "execution_count": 1,
   "id": "698f638d",
   "metadata": {},
   "outputs": [],
   "source": [
    "import numpy as np\n",
    "import matplotlib.pyplot as plt\n",
    "import math"
   ]
  },
  {
   "cell_type": "markdown",
   "id": "2baf1a1f",
   "metadata": {},
   "source": [
    "## Bisection Method"
   ]
  },
  {
   "cell_type": "code",
   "execution_count": 2,
   "id": "86ba9407",
   "metadata": {},
   "outputs": [],
   "source": [
    "def fForTest(x):\n",
    "    return x*(x-2)"
   ]
  },
  {
   "cell_type": "code",
   "execution_count": 11,
   "id": "2882d210",
   "metadata": {},
   "outputs": [],
   "source": [
    "def iterateBisection(interval, iteration, Function):\n",
    "    a = interval[0]\n",
    "    b = interval[1]\n",
    "    for i in range(iteration):\n",
    "        if (Function((a+b)/2)*Function(b) > 0):\n",
    "            b = (a+b)/2\n",
    "        else:\n",
    "            a = (a+b)/2\n",
    "            \n",
    "    return (a+b)/2"
   ]
  },
  {
   "cell_type": "code",
   "execution_count": 17,
   "id": "49c30ac2",
   "metadata": {},
   "outputs": [
    {
     "data": {
      "text/plain": [
       "0.0009765625"
      ]
     },
     "execution_count": 17,
     "metadata": {},
     "output_type": "execute_result"
    }
   ],
   "source": [
    "iterateBisection([-1,1], 10,fForTest)"
   ]
  },
  {
   "cell_type": "markdown",
   "id": "2c9ec7ac",
   "metadata": {},
   "source": [
    "## Newton's Method"
   ]
  },
  {
   "cell_type": "code",
   "execution_count": 18,
   "id": "8c7a7374",
   "metadata": {},
   "outputs": [],
   "source": [
    "def F(X):\n",
    "    return 128*X**8 - 256*X**6 + 160*X**4 - 32*X**2 + 1\n",
    "\n",
    "def FatDx(X, dx, n):\n",
    "    return F(X+n*dx)\n",
    "\n",
    "def DF(X, dx):\n",
    "    return ((-3*FatDx(X,dx,0) + 4*FatDx(X,dx,1) - FatDx(X,dx,2))/(2*dx))\n",
    "    \n",
    "def DF_test(X,dx):\n",
    "    return ((FatDx(X,dx,1)-F(X))/(dx))"
   ]
  },
  {
   "cell_type": "code",
   "execution_count": 21,
   "id": "cf69ffec",
   "metadata": {},
   "outputs": [
    {
     "data": {
      "text/plain": [
       "63.99459224098436"
      ]
     },
     "execution_count": 21,
     "metadata": {},
     "output_type": "execute_result"
    }
   ],
   "source": [
    "DF(1,0.001)"
   ]
  },
  {
   "cell_type": "code",
   "execution_count": 19,
   "id": "f6e03540",
   "metadata": {},
   "outputs": [],
   "source": [
    "#confing values of the numerical solver\n",
    "dx = 0.0001\n",
    "\n",
    "#confign values of the newton solver\n",
    "DeltaX_limit = 1E-13\n",
    "x_root = -0.8\n",
    "max_iteration = 200\n"
   ]
  },
  {
   "cell_type": "code",
   "execution_count": 20,
   "id": "7b4b891a",
   "metadata": {},
   "outputs": [],
   "source": [
    "def findRoot(x_root, max_iteration, DeltaX_limit, dx):\n",
    "    DeltaX = 2*DeltaX_limit\n",
    "    iteration = 0\n",
    "    while (np.abs(DeltaX) > DeltaX_limit and iteration < max_iteration and DeltaX!=0):\n",
    "        DeltaX = F(x_root)/DF(x_root,dx)\n",
    "        x_root = x_root - DeltaX\n",
    "        iteration += 1\n",
    "    return x_root"
   ]
  },
  {
   "cell_type": "code",
   "execution_count": 524,
   "id": "fdeae288",
   "metadata": {},
   "outputs": [
    {
     "data": {
      "text/plain": [
       "-0.8314696123025452"
      ]
     },
     "execution_count": 524,
     "metadata": {},
     "output_type": "execute_result"
    }
   ],
   "source": [
    "findRoot(x_root, max_iteration, DeltaX_limit, dx)"
   ]
  },
  {
   "cell_type": "code",
   "execution_count": null,
   "id": "bcbed3c1",
   "metadata": {},
   "outputs": [],
   "source": []
  },
  {
   "cell_type": "code",
   "execution_count": null,
   "id": "47e1ed47",
   "metadata": {},
   "outputs": [],
   "source": []
  },
  {
   "cell_type": "code",
   "execution_count": 525,
   "id": "33a7ec35",
   "metadata": {},
   "outputs": [],
   "source": [
    "# Finding number of roots in an interval\n",
    "\n",
    "# I would like to use the stochastic method to discover \n",
    "# roots in the mentioned interval. \n",
    "\n",
    "def RandomInterval(interval, n_interval): #interval = [-1,1]\n",
    "    stepSize = (interval[1]-interval[0])/n_interval # 2 is the [-1,1] interval length\n",
    "\n",
    "    intervalPoints = [interval[0]]\n",
    "    while (intervalPoints[-1]<1):\n",
    "        nextVal = (intervalPoints[-1] +np.random.random()*stepSize)\n",
    "        intervalPoints.append(nextVal)\n",
    "\n",
    "    intervalPoints[-1] = interval[1]\n",
    "    intervalPoints = np.array(intervalPoints)\n",
    "    \n",
    "    return intervalPoints\n",
    "\n",
    "def giveIntervalswithRoot():\n",
    "    intervals = RandomInterval([-1,1],15)\n",
    "    intervalMult = F(intervals) * np.roll(F(intervals), -1)\n",
    "    intervalwithRoot = []\n",
    "    for i, elem in enumerate(intervalMult[:-1]):\n",
    "        if elem<0:\n",
    "            intervalwithRoot.append([intervals[i],intervals[i+1]])\n",
    "\n",
    "    intervalwithRoot = np.array(intervalwithRoot)\n",
    "    return intervalwithRoot\n",
    "\n",
    "    "
   ]
  },
  {
   "cell_type": "code",
   "execution_count": 526,
   "id": "52e97506",
   "metadata": {},
   "outputs": [
    {
     "data": {
      "text/plain": [
       "array([[-1.        , -0.96169161],\n",
       "       [-0.88901749, -0.80030368],\n",
       "       [-0.5604447 , -0.53310041],\n",
       "       [-0.19720105, -0.13929988],\n",
       "       [ 0.16573455,  0.22932523],\n",
       "       [ 0.53311349,  0.62931698],\n",
       "       [ 0.73483928,  0.86798861],\n",
       "       [ 0.97233534,  1.        ]])"
      ]
     },
     "execution_count": 526,
     "metadata": {},
     "output_type": "execute_result"
    }
   ],
   "source": [
    "intervalswithRoot = giveIntervalswithRoot()\n",
    "intervalswithRoot"
   ]
  },
  {
   "cell_type": "code",
   "execution_count": 527,
   "id": "29deb4f1",
   "metadata": {},
   "outputs": [],
   "source": [
    "xinit_seeds = intervalswithRoot.mean(axis=1)"
   ]
  },
  {
   "cell_type": "code",
   "execution_count": 528,
   "id": "ebe8d0a7",
   "metadata": {},
   "outputs": [],
   "source": [
    "roots = []\n",
    "for elem in xinit_seeds:\n",
    "    roots.append(findRoot(elem, max_iteration, DeltaX_limit, dx))"
   ]
  },
  {
   "cell_type": "code",
   "execution_count": 529,
   "id": "8fe5fa08",
   "metadata": {},
   "outputs": [
    {
     "data": {
      "text/plain": [
       "[-0.9807852804032302,\n",
       " -0.8314696123025453,\n",
       " -0.5555702330196022,\n",
       " -0.19509032201612828,\n",
       " 0.19509032201612828,\n",
       " 0.5555702330196024,\n",
       " 0.8314696123025453,\n",
       " 0.9807852804032307]"
      ]
     },
     "execution_count": 529,
     "metadata": {},
     "output_type": "execute_result"
    }
   ],
   "source": [
    "roots"
   ]
  },
  {
   "cell_type": "code",
   "execution_count": null,
   "id": "701510fd",
   "metadata": {},
   "outputs": [],
   "source": []
  },
  {
   "cell_type": "code",
   "execution_count": null,
   "id": "816b552c",
   "metadata": {},
   "outputs": [],
   "source": []
  },
  {
   "cell_type": "markdown",
   "id": "1836a612",
   "metadata": {},
   "source": [
    "## Bisection and Newton hybrid"
   ]
  },
  {
   "cell_type": "code",
   "execution_count": 530,
   "id": "8d9a0acf",
   "metadata": {},
   "outputs": [],
   "source": [
    "def runHybrid():\n",
    "    intervalswithRoot = giveIntervalswithRoot()\n",
    "    rootSeeds = []\n",
    "    for elem in intervalswithRoot:\n",
    "        rootSeeds.append(iterateBisection(elem, 10, Function=F))\n",
    "        \n",
    "    roots = []\n",
    "    for elem in rootSeeds:\n",
    "        roots.append(findRoot(elem, max_iteration, DeltaX_limit, dx))\n",
    "\n",
    "    return roots"
   ]
  },
  {
   "cell_type": "code",
   "execution_count": 531,
   "id": "43154f34",
   "metadata": {},
   "outputs": [
    {
     "data": {
      "text/plain": [
       "[-0.9807852804032307,\n",
       " -0.8314696123025458,\n",
       " -0.5555702330196022,\n",
       " -0.19509032201612825,\n",
       " 0.19509032201612825,\n",
       " 0.5555702330196022,\n",
       " 0.8314696123025456,\n",
       " 0.9807852804032304]"
      ]
     },
     "execution_count": 531,
     "metadata": {},
     "output_type": "execute_result"
    }
   ],
   "source": [
    "runHybrid()"
   ]
  },
  {
   "cell_type": "code",
   "execution_count": null,
   "id": "4e481c2d",
   "metadata": {},
   "outputs": [],
   "source": []
  },
  {
   "cell_type": "code",
   "execution_count": null,
   "id": "3f05fe3a",
   "metadata": {},
   "outputs": [],
   "source": []
  },
  {
   "cell_type": "markdown",
   "id": "3ade782e",
   "metadata": {},
   "source": [
    "## Ensemble of intervals with Hybrid method"
   ]
  },
  {
   "cell_type": "code",
   "execution_count": 532,
   "id": "7c286b70",
   "metadata": {},
   "outputs": [],
   "source": [
    "n_Ensemble = 5\n",
    "allRoots = []\n",
    "for ensemble in range(5):\n",
    "    roots = runHybrid()\n",
    "    for elem in roots:\n",
    "        if round(elem,12) not in allRoots:\n",
    "            allRoots.append(round(elem,12))\n",
    "        \n",
    "\n",
    "    "
   ]
  },
  {
   "cell_type": "code",
   "execution_count": 533,
   "id": "7de4961c",
   "metadata": {},
   "outputs": [
    {
     "data": {
      "text/plain": [
       "[-0.980785280403,\n",
       " -0.831469612303,\n",
       " -0.55557023302,\n",
       " -0.195090322016,\n",
       " 0.195090322016,\n",
       " 0.55557023302,\n",
       " 0.831469612303,\n",
       " 0.980785280403]"
      ]
     },
     "execution_count": 533,
     "metadata": {},
     "output_type": "execute_result"
    }
   ],
   "source": [
    "allRoots"
   ]
  },
  {
   "cell_type": "code",
   "execution_count": null,
   "id": "e4e48208",
   "metadata": {},
   "outputs": [],
   "source": []
  },
  {
   "cell_type": "code",
   "execution_count": null,
   "id": "c24e076c",
   "metadata": {},
   "outputs": [],
   "source": []
  },
  {
   "cell_type": "markdown",
   "id": "9ebc6ebe",
   "metadata": {},
   "source": [
    "$f'(x) = \\dfrac{-f_{j+2} + 4f_{j+1} - 3f_{j}}{2\\Delta x}$"
   ]
  },
  {
   "cell_type": "code",
   "execution_count": null,
   "id": "797d367b",
   "metadata": {},
   "outputs": [],
   "source": []
  },
  {
   "cell_type": "code",
   "execution_count": null,
   "id": "3ccf2b4e",
   "metadata": {},
   "outputs": [],
   "source": []
  },
  {
   "cell_type": "code",
   "execution_count": null,
   "id": "cf99d75b",
   "metadata": {},
   "outputs": [],
   "source": []
  },
  {
   "cell_type": "markdown",
   "id": "a070a939",
   "metadata": {},
   "source": []
  },
  {
   "cell_type": "code",
   "execution_count": null,
   "id": "27b620b7",
   "metadata": {},
   "outputs": [],
   "source": []
  },
  {
   "cell_type": "code",
   "execution_count": null,
   "id": "d6c14211",
   "metadata": {},
   "outputs": [],
   "source": []
  },
  {
   "cell_type": "code",
   "execution_count": null,
   "id": "e513ab8d",
   "metadata": {},
   "outputs": [],
   "source": []
  },
  {
   "cell_type": "code",
   "execution_count": null,
   "id": "bc954102",
   "metadata": {},
   "outputs": [],
   "source": []
  },
  {
   "cell_type": "code",
   "execution_count": null,
   "id": "06a657b9",
   "metadata": {},
   "outputs": [],
   "source": []
  },
  {
   "cell_type": "code",
   "execution_count": null,
   "id": "e2371b96",
   "metadata": {},
   "outputs": [],
   "source": []
  }
 ],
 "metadata": {
  "kernelspec": {
   "display_name": "Python 3 (ipykernel)",
   "language": "python",
   "name": "python3"
  },
  "language_info": {
   "codemirror_mode": {
    "name": "ipython",
    "version": 3
   },
   "file_extension": ".py",
   "mimetype": "text/x-python",
   "name": "python",
   "nbconvert_exporter": "python",
   "pygments_lexer": "ipython3",
   "version": "3.8.10"
  }
 },
 "nbformat": 4,
 "nbformat_minor": 5
}
