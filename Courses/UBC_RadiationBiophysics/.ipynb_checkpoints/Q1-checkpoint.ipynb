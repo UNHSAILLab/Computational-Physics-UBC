{
 "cells": [
  {
   "cell_type": "code",
   "execution_count": 1,
   "id": "b7923c43",
   "metadata": {},
   "outputs": [],
   "source": [
    "import pandas as pd\n",
    "import numpy as np\n",
    "import matplotlib.pyplot as plt\n",
    "import matplotlib as mpl"
   ]
  },
  {
   "cell_type": "code",
   "execution_count": 2,
   "id": "afdf4b8d",
   "metadata": {},
   "outputs": [],
   "source": [
    "mpl.rc('font',size=14)\n",
    "mpl.rc(\"figure\", figsize=(8,4))"
   ]
  },
  {
   "cell_type": "code",
   "execution_count": 8,
   "id": "c033f82d",
   "metadata": {},
   "outputs": [],
   "source": [
    "def E(channel):\n",
    "    return (1-channel/2047)*5.486"
   ]
  },
  {
   "cell_type": "code",
   "execution_count": 9,
   "id": "61ab3be9",
   "metadata": {},
   "outputs": [],
   "source": [
    "df = pd.read_csv('alpha-range.csv')"
   ]
  },
  {
   "cell_type": "code",
   "execution_count": 10,
   "id": "93911579",
   "metadata": {},
   "outputs": [
    {
     "data": {
      "text/html": [
       "<div>\n",
       "<style scoped>\n",
       "    .dataframe tbody tr th:only-of-type {\n",
       "        vertical-align: middle;\n",
       "    }\n",
       "\n",
       "    .dataframe tbody tr th {\n",
       "        vertical-align: top;\n",
       "    }\n",
       "\n",
       "    .dataframe thead th {\n",
       "        text-align: right;\n",
       "    }\n",
       "</style>\n",
       "<table border=\"1\" class=\"dataframe\">\n",
       "  <thead>\n",
       "    <tr style=\"text-align: right;\">\n",
       "      <th></th>\n",
       "      <th>Channel</th>\n",
       "      <th>61</th>\n",
       "      <th>57</th>\n",
       "      <th>53</th>\n",
       "      <th>48</th>\n",
       "      <th>44</th>\n",
       "      <th>39</th>\n",
       "      <th>22</th>\n",
       "      <th>4</th>\n",
       "      <th>0</th>\n",
       "    </tr>\n",
       "  </thead>\n",
       "  <tbody>\n",
       "    <tr>\n",
       "      <th>0</th>\n",
       "      <td>0</td>\n",
       "      <td>0</td>\n",
       "      <td>0</td>\n",
       "      <td>0</td>\n",
       "      <td>0</td>\n",
       "      <td>0</td>\n",
       "      <td>0</td>\n",
       "      <td>0</td>\n",
       "      <td>0</td>\n",
       "      <td>0</td>\n",
       "    </tr>\n",
       "    <tr>\n",
       "      <th>1</th>\n",
       "      <td>1</td>\n",
       "      <td>0</td>\n",
       "      <td>0</td>\n",
       "      <td>0</td>\n",
       "      <td>0</td>\n",
       "      <td>0</td>\n",
       "      <td>0</td>\n",
       "      <td>0</td>\n",
       "      <td>0</td>\n",
       "      <td>0</td>\n",
       "    </tr>\n",
       "    <tr>\n",
       "      <th>2</th>\n",
       "      <td>2</td>\n",
       "      <td>0</td>\n",
       "      <td>0</td>\n",
       "      <td>0</td>\n",
       "      <td>0</td>\n",
       "      <td>0</td>\n",
       "      <td>0</td>\n",
       "      <td>0</td>\n",
       "      <td>0</td>\n",
       "      <td>0</td>\n",
       "    </tr>\n",
       "    <tr>\n",
       "      <th>3</th>\n",
       "      <td>3</td>\n",
       "      <td>0</td>\n",
       "      <td>0</td>\n",
       "      <td>0</td>\n",
       "      <td>0</td>\n",
       "      <td>0</td>\n",
       "      <td>0</td>\n",
       "      <td>0</td>\n",
       "      <td>0</td>\n",
       "      <td>0</td>\n",
       "    </tr>\n",
       "    <tr>\n",
       "      <th>4</th>\n",
       "      <td>4</td>\n",
       "      <td>0</td>\n",
       "      <td>0</td>\n",
       "      <td>0</td>\n",
       "      <td>0</td>\n",
       "      <td>0</td>\n",
       "      <td>0</td>\n",
       "      <td>0</td>\n",
       "      <td>0</td>\n",
       "      <td>0</td>\n",
       "    </tr>\n",
       "    <tr>\n",
       "      <th>...</th>\n",
       "      <td>...</td>\n",
       "      <td>...</td>\n",
       "      <td>...</td>\n",
       "      <td>...</td>\n",
       "      <td>...</td>\n",
       "      <td>...</td>\n",
       "      <td>...</td>\n",
       "      <td>...</td>\n",
       "      <td>...</td>\n",
       "      <td>...</td>\n",
       "    </tr>\n",
       "    <tr>\n",
       "      <th>2043</th>\n",
       "      <td>2043</td>\n",
       "      <td>0</td>\n",
       "      <td>0</td>\n",
       "      <td>0</td>\n",
       "      <td>0</td>\n",
       "      <td>0</td>\n",
       "      <td>0</td>\n",
       "      <td>0</td>\n",
       "      <td>0</td>\n",
       "      <td>0</td>\n",
       "    </tr>\n",
       "    <tr>\n",
       "      <th>2044</th>\n",
       "      <td>2044</td>\n",
       "      <td>0</td>\n",
       "      <td>0</td>\n",
       "      <td>0</td>\n",
       "      <td>0</td>\n",
       "      <td>0</td>\n",
       "      <td>0</td>\n",
       "      <td>0</td>\n",
       "      <td>0</td>\n",
       "      <td>0</td>\n",
       "    </tr>\n",
       "    <tr>\n",
       "      <th>2045</th>\n",
       "      <td>2045</td>\n",
       "      <td>0</td>\n",
       "      <td>0</td>\n",
       "      <td>0</td>\n",
       "      <td>0</td>\n",
       "      <td>0</td>\n",
       "      <td>0</td>\n",
       "      <td>0</td>\n",
       "      <td>0</td>\n",
       "      <td>0</td>\n",
       "    </tr>\n",
       "    <tr>\n",
       "      <th>2046</th>\n",
       "      <td>2046</td>\n",
       "      <td>0</td>\n",
       "      <td>0</td>\n",
       "      <td>0</td>\n",
       "      <td>0</td>\n",
       "      <td>0</td>\n",
       "      <td>0</td>\n",
       "      <td>0</td>\n",
       "      <td>0</td>\n",
       "      <td>0</td>\n",
       "    </tr>\n",
       "    <tr>\n",
       "      <th>2047</th>\n",
       "      <td>2047</td>\n",
       "      <td>0</td>\n",
       "      <td>0</td>\n",
       "      <td>0</td>\n",
       "      <td>0</td>\n",
       "      <td>0</td>\n",
       "      <td>0</td>\n",
       "      <td>0</td>\n",
       "      <td>0</td>\n",
       "      <td>0</td>\n",
       "    </tr>\n",
       "  </tbody>\n",
       "</table>\n",
       "<p>2048 rows × 10 columns</p>\n",
       "</div>"
      ],
      "text/plain": [
       "      Channel  61  57  53  48  44  39  22  4  0\n",
       "0           0   0   0   0   0   0   0   0  0  0\n",
       "1           1   0   0   0   0   0   0   0  0  0\n",
       "2           2   0   0   0   0   0   0   0  0  0\n",
       "3           3   0   0   0   0   0   0   0  0  0\n",
       "4           4   0   0   0   0   0   0   0  0  0\n",
       "...       ...  ..  ..  ..  ..  ..  ..  .. .. ..\n",
       "2043     2043   0   0   0   0   0   0   0  0  0\n",
       "2044     2044   0   0   0   0   0   0   0  0  0\n",
       "2045     2045   0   0   0   0   0   0   0  0  0\n",
       "2046     2046   0   0   0   0   0   0   0  0  0\n",
       "2047     2047   0   0   0   0   0   0   0  0  0\n",
       "\n",
       "[2048 rows x 10 columns]"
      ]
     },
     "execution_count": 10,
     "metadata": {},
     "output_type": "execute_result"
    }
   ],
   "source": [
    "df"
   ]
  },
  {
   "cell_type": "code",
   "execution_count": 11,
   "id": "a87c10f7",
   "metadata": {},
   "outputs": [],
   "source": [
    "col = df.columns\n",
    "data = df.to_numpy()"
   ]
  },
  {
   "cell_type": "code",
   "execution_count": 12,
   "id": "710ef72b",
   "metadata": {},
   "outputs": [
    {
     "data": {
      "text/plain": [
       "array([[   0,    0,    0, ...,    0,    0,    0],\n",
       "       [   1,    0,    0, ...,    0,    0,    0],\n",
       "       [   2,    0,    0, ...,    0,    0,    0],\n",
       "       ...,\n",
       "       [2045,    0,    0, ...,    0,    0,    0],\n",
       "       [2046,    0,    0, ...,    0,    0,    0],\n",
       "       [2047,    0,    0, ...,    0,    0,    0]])"
      ]
     },
     "execution_count": 12,
     "metadata": {},
     "output_type": "execute_result"
    }
   ],
   "source": [
    "data"
   ]
  },
  {
   "cell_type": "code",
   "execution_count": 13,
   "id": "1ed46eee",
   "metadata": {},
   "outputs": [
    {
     "data": {
      "text/plain": [
       "Index(['Channel', '61', '57', '53', '48', '44', '39', '22', '4', '0'], dtype='object')"
      ]
     },
     "execution_count": 13,
     "metadata": {},
     "output_type": "execute_result"
    }
   ],
   "source": [
    "col"
   ]
  },
  {
   "cell_type": "code",
   "execution_count": 14,
   "id": "97b5737c",
   "metadata": {},
   "outputs": [],
   "source": [
    "E_list = E(data[:,0])"
   ]
  },
  {
   "cell_type": "code",
   "execution_count": null,
   "id": "4514f72b",
   "metadata": {},
   "outputs": [],
   "source": []
  },
  {
   "cell_type": "code",
   "execution_count": 17,
   "id": "1376cc9e",
   "metadata": {},
   "outputs": [
    {
     "data": {
      "text/plain": [
       "<matplotlib.legend.Legend at 0x7fceca380eb0>"
      ]
     },
     "execution_count": 17,
     "metadata": {},
     "output_type": "execute_result"
    },
    {
     "data": {
      "image/png": "[encoded data removed]",
      "text/plain": [
       "<Figure size 864x432 with 1 Axes>"
      ]
     },
     "metadata": {
      "needs_background": "light"
     },
     "output_type": "display_data"
    }
   ],
   "source": [
    "plt.figure(figsize=(12,6))\n",
    "for index, channel in enumerate(col[1:]): \n",
    "    plt.plot(E_list, data[:,index+1],\".\",ms=3,label=channel+\"kPa\")\n",
    "\n",
    "plt.title(\"Data\")\n",
    "plt.xlabel(\"Energy (MeV)\")\n",
    "plt.ylabel(\"Count\")\n",
    "plt.legend()"
   ]
  },
  {
   "cell_type": "markdown",
   "id": "07a18c3d",
   "metadata": {},
   "source": [
    "I will call the x axis above (2047-channel), x. \n",
    "as it can be seen from the plot above, x=2000 (channel=0) corresponds to the particles with highest energy (E_max=5.486 MeV). and x= (channel=2047) corresponds to the particles with lowest energy (E_min=0 MeV).\n",
    "So the linear relation between E and channel number will be:\n",
    "\n",
    "$E = E_{max} (1-channel/2047)$"
   ]
  },
  {
   "cell_type": "code",
   "execution_count": 18,
   "id": "988d6411",
   "metadata": {},
   "outputs": [],
   "source": [
    "pressure = []\n",
    "for elem in col[1:-1]:\n",
    "    pressure.append(int(elem))\n",
    "    "
   ]
  },
  {
   "cell_type": "code",
   "execution_count": 28,
   "id": "a57590e7",
   "metadata": {},
   "outputs": [
    {
     "data": {
      "text/plain": [
       "array([[   0,    0,    0, ...,    0,    0,    0],\n",
       "       [   1,    0,    0, ...,    0,    0,    0],\n",
       "       [   2,    0,    0, ...,    0,    0,    0],\n",
       "       ...,\n",
       "       [2045,    0,    0, ...,    0,    0,    0],\n",
       "       [2046,    0,    0, ...,    0,    0,    0],\n",
       "       [2047,    0,    0, ...,    0,    0,    0]])"
      ]
     },
     "execution_count": 28,
     "metadata": {},
     "output_type": "execute_result"
    }
   ],
   "source": [
    "data"
   ]
  },
  {
   "cell_type": "code",
   "execution_count": 30,
   "id": "05c14c33",
   "metadata": {},
   "outputs": [
    {
     "data": {
      "text/plain": [
       "array([2047,  274,  437,  611,  735,  923, 1020, 1402, 1743, 1790])"
      ]
     },
     "execution_count": 30,
     "metadata": {},
     "output_type": "execute_result"
    }
   ],
   "source": [
    "maxEnergy_channelscale = data.argmax(axis=0)\n",
    "maxEnergy_channelscale"
   ]
  },
  {
   "cell_type": "code",
   "execution_count": 19,
   "id": "94c41ae0",
   "metadata": {},
   "outputs": [
    {
     "data": {
      "text/plain": [
       "[61, 57, 53, 48, 44, 39, 22, 4]"
      ]
     },
     "execution_count": 19,
     "metadata": {},
     "output_type": "execute_result"
    }
   ],
   "source": [
    "pressure"
   ]
  },
  {
   "cell_type": "code",
   "execution_count": 20,
   "id": "7c99b170",
   "metadata": {},
   "outputs": [],
   "source": [
    "effective_length = []\n",
    "for elem in pressure:\n",
    "    effective_length.append(elem/pressure[-1])"
   ]
  },
  {
   "cell_type": "code",
   "execution_count": 21,
   "id": "bcb0641d",
   "metadata": {},
   "outputs": [
    {
     "data": {
      "text/plain": [
       "[15.25, 14.25, 13.25, 12.0, 11.0, 9.75, 5.5, 1.0]"
      ]
     },
     "execution_count": 21,
     "metadata": {},
     "output_type": "execute_result"
    }
   ],
   "source": [
    "effective_length"
   ]
  },
  {
   "cell_type": "code",
   "execution_count": 33,
   "id": "c8d5dc98",
   "metadata": {},
   "outputs": [],
   "source": [
    "Energy = E(maxEnergy_channelscale[1:-1])"
   ]
  },
  {
   "cell_type": "code",
   "execution_count": 35,
   "id": "44d6d7bb",
   "metadata": {},
   "outputs": [
    {
     "data": {
      "text/plain": [
       "array([4.75167465, 4.31483146, 3.84850806, 3.51618564, 3.01234196,\n",
       "       2.75238007, 1.7286126 , 0.81472594])"
      ]
     },
     "execution_count": 35,
     "metadata": {},
     "output_type": "execute_result"
    }
   ],
   "source": [
    "Energy"
   ]
  },
  {
   "cell_type": "code",
   "execution_count": null,
   "id": "2dd0cc60",
   "metadata": {},
   "outputs": [],
   "source": []
  },
  {
   "cell_type": "code",
   "execution_count": 40,
   "id": "d4d2f0aa",
   "metadata": {},
   "outputs": [
    {
     "data": {
      "text/plain": [
       "Text(0, 0.5, 'energy(MeV)')"
      ]
     },
     "execution_count": 40,
     "metadata": {},
     "output_type": "execute_result"
    },
    {
     "data": {
      "image/png": "[encoded data removed]",
      "text/plain": [
       "<Figure size 576x288 with 1 Axes>"
      ]
     },
     "metadata": {
      "needs_background": "light"
     },
     "output_type": "display_data"
    }
   ],
   "source": [
    "plt.plot(effective_length, Energy,\"r*\")\n",
    "plt.plot(effective_length, Energy)\n",
    "\n",
    "#plt.plot(energy[1:])\n",
    "plt.xlabel(\"effective lenght\")\n",
    "plt.ylabel(\"energy(MeV)\")"
   ]
  },
  {
   "cell_type": "code",
   "execution_count": null,
   "id": "038834c8",
   "metadata": {},
   "outputs": [],
   "source": []
  },
  {
   "cell_type": "code",
   "execution_count": null,
   "id": "04f140f6",
   "metadata": {},
   "outputs": [],
   "source": []
  },
  {
   "cell_type": "code",
   "execution_count": null,
   "id": "7c228d32",
   "metadata": {},
   "outputs": [],
   "source": []
  },
  {
   "cell_type": "code",
   "execution_count": null,
   "id": "4d1cd087",
   "metadata": {},
   "outputs": [],
   "source": []
  }
 ],
 "metadata": {
  "kernelspec": {
   "display_name": "Python 3 (ipykernel)",
   "language": "python",
   "name": "python3"
  },
  "language_info": {
   "codemirror_mode": {
    "name": "ipython",
    "version": 3
   },
   "file_extension": ".py",
   "mimetype": "text/x-python",
   "name": "python",
   "nbconvert_exporter": "python",
   "pygments_lexer": "ipython3",
   "version": "3.8.10"
  }
 },
 "nbformat": 4,
 "nbformat_minor": 5
}
