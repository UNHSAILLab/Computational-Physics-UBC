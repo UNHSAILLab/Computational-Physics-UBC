{
 "cells": [
  {
   "cell_type": "code",
   "execution_count": 1,
   "id": "de60b0b4",
   "metadata": {},
   "outputs": [],
   "source": [
    "import numpy as np\n",
    "import matplotlib.pyplot as plt"
   ]
  },
  {
   "cell_type": "code",
   "execution_count": 45,
   "id": "4fae1b4e",
   "metadata": {},
   "outputs": [],
   "source": [
    "def f(x):\n",
    "    return np.exp(-x**2 * 5)"
   ]
  },
  {
   "cell_type": "code",
   "execution_count": 46,
   "id": "f5c76d16",
   "metadata": {},
   "outputs": [],
   "source": [
    "def getRand():\n",
    "    while (1):\n",
    "        rand = np.random.random()\n",
    "        rand_eval = np.random.random()\n",
    "        if f(rand)>rand_eval:\n",
    "            return rand"
   ]
  },
  {
   "cell_type": "code",
   "execution_count": 47,
   "id": "24b20908",
   "metadata": {},
   "outputs": [],
   "source": [
    "F_randoms = []\n",
    "for j in range(4000):\n",
    "    F_randoms.append(getRand())"
   ]
  },
  {
   "cell_type": "code",
   "execution_count": null,
   "id": "6596ca93",
   "metadata": {},
   "outputs": [],
   "source": []
  },
  {
   "cell_type": "code",
   "execution_count": 48,
   "id": "a070d8dd",
   "metadata": {},
   "outputs": [
    {
     "data": {
      "image/png": "[encoded data removed]",
      "text/plain": [
       "<Figure size 432x288 with 1 Axes>"
      ]
     },
     "metadata": {
      "needs_background": "light"
     },
     "output_type": "display_data"
    }
   ],
   "source": [
    "_ = plt.hist(F_randoms, bins=20)"
   ]
  },
  {
   "cell_type": "markdown",
   "id": "eac4d85b",
   "metadata": {},
   "source": [
    "# Proof\n",
    "\n",
    "<img src=\"images/probab.jpg\"\n",
    "     alt=\"Markdown Monster icon\"\n",
    "     style=\"float: left; margin-right: 10px;\" />"
   ]
  },
  {
   "cell_type": "code",
   "execution_count": null,
   "id": "825f1e23",
   "metadata": {},
   "outputs": [],
   "source": []
  }
 ],
 "metadata": {
  "kernelspec": {
   "display_name": "Python 3",
   "language": "python",
   "name": "python3"
  },
  "language_info": {
   "codemirror_mode": {
    "name": "ipython",
    "version": 3
   },
   "file_extension": ".py",
   "mimetype": "text/x-python",
   "name": "python",
   "nbconvert_exporter": "python",
   "pygments_lexer": "ipython3",
   "version": "3.6.13"
  }
 },
 "nbformat": 4,
 "nbformat_minor": 5
}
