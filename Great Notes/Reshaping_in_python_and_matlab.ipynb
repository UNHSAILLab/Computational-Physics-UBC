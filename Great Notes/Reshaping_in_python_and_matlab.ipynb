{
  "nbformat": 4,
  "nbformat_minor": 0,
  "metadata": {
    "colab": {
      "name": "Reshaping in python and matlab.ipynb",
      "provenance": [],
      "authorship_tag": "ABX9TyMFdGu+7+l3L2HoKp+UVLSN",
      "include_colab_link": true
    },
    "kernelspec": {
      "name": "python3",
      "display_name": "Python 3"
    },
    "language_info": {
      "name": "python"
    }
  },
  "cells": [
    {
      "cell_type": "markdown",
      "metadata": {
        "id": "view-in-github",
        "colab_type": "text"
      },
      "source": [
        "<a href=\"https://colab.research.google.com/github/alifele/Computational-Physics/blob/main/Great%20Notes/Reshaping_in_python_and_matlab.ipynb\" target=\"_parent\"><img src=\"https://colab.research.google.com/assets/colab-badge.svg\" alt=\"Open In Colab\"/></a>"
      ]
    },
    {
      "cell_type": "markdown",
      "source": [
        "In this note I am going to show that the reshaping in matlab and python happens with different results."
      ],
      "metadata": {
        "id": "c2GHpsSlvKM3"
      }
    },
    {
      "cell_type": "code",
      "execution_count": 1,
      "metadata": {
        "id": "yskvcHUHudds"
      },
      "outputs": [],
      "source": [
        "import numpy as np"
      ]
    },
    {
      "cell_type": "code",
      "source": [
        "a = np.arange(1,17)\n",
        "a"
      ],
      "metadata": {
        "colab": {
          "base_uri": "https://localhost:8080/"
        },
        "id": "0gR0btgJugkV",
        "outputId": "e5a45aea-906a-4b59-fb3b-63bd4eac58de"
      },
      "execution_count": 11,
      "outputs": [
        {
          "output_type": "execute_result",
          "data": {
            "text/plain": [
              "array([ 1,  2,  3,  4,  5,  6,  7,  8,  9, 10, 11, 12, 13, 14, 15, 16])"
            ]
          },
          "metadata": {},
          "execution_count": 11
        }
      ]
    },
    {
      "cell_type": "code",
      "source": [
        "a.reshape((2,8))"
      ],
      "metadata": {
        "colab": {
          "base_uri": "https://localhost:8080/"
        },
        "id": "efgypHkEuin9",
        "outputId": "c3f39e66-e9f7-4c48-cf95-4a6878c048a2"
      },
      "execution_count": 12,
      "outputs": [
        {
          "output_type": "execute_result",
          "data": {
            "text/plain": [
              "array([[ 1,  2,  3,  4,  5,  6,  7,  8],\n",
              "       [ 9, 10, 11, 12, 13, 14, 15, 16]])"
            ]
          },
          "metadata": {},
          "execution_count": 12
        }
      ]
    },
    {
      "cell_type": "markdown",
      "source": [
        "the same code in matlab will result in:\n",
        "```matlab\n",
        "a = [1:16];\n",
        "a = reshape(a,2,8)\n",
        "\n",
        ">> a =\n",
        "     1     3     5     7     9    11    13    15\n",
        "     2     4     6     8    10    12    14    16\n",
        "```"
      ],
      "metadata": {
        "id": "RhmWj8L1v1so"
      }
    },
    {
      "cell_type": "code",
      "source": [
        "a.reshape((4,4))"
      ],
      "metadata": {
        "colab": {
          "base_uri": "https://localhost:8080/"
        },
        "id": "REa6EBXZuoHN",
        "outputId": "d8bbce51-4152-4136-f34f-2bfb2ec6dc08"
      },
      "execution_count": 13,
      "outputs": [
        {
          "output_type": "execute_result",
          "data": {
            "text/plain": [
              "array([[ 1,  2,  3,  4],\n",
              "       [ 5,  6,  7,  8],\n",
              "       [ 9, 10, 11, 12],\n",
              "       [13, 14, 15, 16]])"
            ]
          },
          "metadata": {},
          "execution_count": 13
        }
      ]
    },
    {
      "cell_type": "markdown",
      "source": [
        "the same code in matlab will result in:\n",
        "```matlab\n",
        "a = [1:16];\n",
        "a = reshape(a,4,4)\n",
        "\n",
        ">> a =\n",
        "     1     5     9    13\n",
        "     2     6    10    14\n",
        "     3     7    11    15\n",
        "     4     8    12    16\n",
        "\n",
        "```"
      ],
      "metadata": {
        "id": "D0yQ7Fm7wK06"
      }
    },
    {
      "cell_type": "code",
      "source": [
        "b = np.arange(1,65)\n",
        "b"
      ],
      "metadata": {
        "colab": {
          "base_uri": "https://localhost:8080/"
        },
        "id": "WsWY-nXcuucG",
        "outputId": "2127484d-ea6c-4780-d7f2-5ff31c8900f8"
      },
      "execution_count": 14,
      "outputs": [
        {
          "output_type": "execute_result",
          "data": {
            "text/plain": [
              "array([ 1,  2,  3,  4,  5,  6,  7,  8,  9, 10, 11, 12, 13, 14, 15, 16, 17,\n",
              "       18, 19, 20, 21, 22, 23, 24, 25, 26, 27, 28, 29, 30, 31, 32, 33, 34,\n",
              "       35, 36, 37, 38, 39, 40, 41, 42, 43, 44, 45, 46, 47, 48, 49, 50, 51,\n",
              "       52, 53, 54, 55, 56, 57, 58, 59, 60, 61, 62, 63, 64])"
            ]
          },
          "metadata": {},
          "execution_count": 14
        }
      ]
    },
    {
      "cell_type": "code",
      "source": [
        "b.reshape(4,4,4)"
      ],
      "metadata": {
        "colab": {
          "base_uri": "https://localhost:8080/"
        },
        "id": "QmCQDtsEuyXu",
        "outputId": "0e429140-1d99-42d0-c7e2-c3e488344a33"
      },
      "execution_count": 15,
      "outputs": [
        {
          "output_type": "execute_result",
          "data": {
            "text/plain": [
              "array([[[ 1,  2,  3,  4],\n",
              "        [ 5,  6,  7,  8],\n",
              "        [ 9, 10, 11, 12],\n",
              "        [13, 14, 15, 16]],\n",
              "\n",
              "       [[17, 18, 19, 20],\n",
              "        [21, 22, 23, 24],\n",
              "        [25, 26, 27, 28],\n",
              "        [29, 30, 31, 32]],\n",
              "\n",
              "       [[33, 34, 35, 36],\n",
              "        [37, 38, 39, 40],\n",
              "        [41, 42, 43, 44],\n",
              "        [45, 46, 47, 48]],\n",
              "\n",
              "       [[49, 50, 51, 52],\n",
              "        [53, 54, 55, 56],\n",
              "        [57, 58, 59, 60],\n",
              "        [61, 62, 63, 64]]])"
            ]
          },
          "metadata": {},
          "execution_count": 15
        }
      ]
    },
    {
      "cell_type": "markdown",
      "source": [
        "the same code in matlab will result in:\n",
        "```matlab\n",
        "a = [1:64];\n",
        "a = reshape(a,4,4,4)\n",
        "\n",
        ">> a(:,:,1) =\n",
        "     1     5     9    13\n",
        "     2     6    10    14\n",
        "     3     7    11    15\n",
        "     4     8    12    16\n",
        "\n",
        ">> a(:,:,2) =\n",
        "    17    21    25    29\n",
        "    18    22    26    30\n",
        "    19    23    27    31\n",
        "    20    24    28    32\n",
        "\n",
        ">> a(:,:,3) =\n",
        "    33    37    41    45\n",
        "    34    38    42    46\n",
        "    35    39    43    47\n",
        "    36    40    44    48\n",
        "\n",
        ">> a(:,:,4) =\n",
        "    49    53    57    61\n",
        "    50    54    58    62\n",
        "    51    55    59    63\n",
        "    52    56    60    64\n",
        "\n",
        "```"
      ],
      "metadata": {
        "id": "Cg-2i4gDwhBZ"
      }
    },
    {
      "cell_type": "code",
      "source": [
        ""
      ],
      "metadata": {
        "id": "WIP3b2rRu2ne"
      },
      "execution_count": null,
      "outputs": []
    }
  ]
}