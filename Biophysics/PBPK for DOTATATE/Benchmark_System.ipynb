{
  "nbformat": 4,
  "nbformat_minor": 0,
  "metadata": {
    "colab": {
      "provenance": [],
      "authorship_tag": "ABX9TyOPS7a06Go6Fw/Gz5Rd5bdR",
      "include_colab_link": true
    },
    "kernelspec": {
      "name": "python3",
      "display_name": "Python 3"
    },
    "language_info": {
      "name": "python"
    }
  },
  "cells": [
    {
      "cell_type": "markdown",
      "metadata": {
        "id": "view-in-github",
        "colab_type": "text"
      },
      "source": [
        "<a href=\"https://colab.research.google.com/github/alifele/Computational-Physics/blob/main/Biophysics/PBPK%20for%20DOTATATE/Benchmark_System.ipynb\" target=\"_parent\"><img src=\"https://colab.research.google.com/assets/colab-badge.svg\" alt=\"Open In Colab\"/></a>"
      ]
    },
    {
      "cell_type": "code",
      "execution_count": 1,
      "metadata": {
        "id": "cn1lcwcAZzYu"
      },
      "outputs": [],
      "source": [
        "import numpy as np\n",
        "import matplotlib.pyplot as plt"
      ]
    },
    {
      "cell_type": "code",
      "source": [
        "def setMatrix(paramDict):\n",
        "    p = paramDict(\"p\")\n",
        "    q = paramDict(\"q\")\n",
        "    r = paramDict(\"r\")\n",
        "    s = paramDict(\"s\")\n",
        "    mat = np.array([[-p,r,0],[p,-(r+q),s],[0,q,-s]])\n",
        "    return mat"
      ],
      "metadata": {
        "id": "8Jf-BAbTbhOV"
      },
      "execution_count": 4,
      "outputs": []
    },
    {
      "cell_type": "code",
      "source": [
        "def F(t,Phi):\n",
        "    return "
      ],
      "metadata": {
        "id": "ew1EM2R-btPV"
      },
      "execution_count": 5,
      "outputs": []
    },
    {
      "cell_type": "code",
      "source": [
        "class System:\n",
        "    def __init__(self, paramDict, configDict, initDict):\n",
        "\n",
        "        self.Phi = initDict[\"Phi0\"]\n",
        "        self.paramDict = paramDict\n",
        "\n",
        "        self.systemMat = np.zeros((3,3))\n",
        "        self.setMatrix()\n",
        "\n",
        "        self.N_t = 1000\n",
        "        self.tmax = configDict[\"tmax\"]\n",
        "        self.h = self.tmax/self.N_t\n",
        "        self.t = 0\n",
        "        self.tList = np.zeros(self.N_t)\n",
        "        self.PhiList = np.zeros((self.N_t, self.Phi.shape[0]))\n",
        "\n",
        "\n",
        "    def I(self, t):\n",
        "        return np.array([0,0,0])\n",
        "\n",
        "\n",
        "    def setMatrix(self):\n",
        "        p = self.paramDict[\"p\"]\n",
        "        q = self.paramDict[\"q\"]\n",
        "        r = self.paramDict[\"r\"]\n",
        "        s = self.paramDict[\"s\"]\n",
        "        rel = self.paramDict[\"rel\"]\n",
        "        self.systemMat = np.array([[-p,r,0],[p,-(r+q),s],[0,q,-(s+rel)]])\n",
        "\n",
        "\n",
        "    def F(self, t, Phi):\n",
        "        return np.matmul(self.systemMat, self.Phi) + self.I(t)\n",
        "\n",
        "\n",
        "    def RK_iterate(self):\n",
        "        k1 = self.F(self.t, self.Phi)\n",
        "        k2 = self.F(self.t+self.h/2, self.Phi+k1*self.h/2)\n",
        "        k3 = self.F(self.t+self.h/2, self.Phi+k2*self.h/2)\n",
        "        k4 = self.F(self.t+self.h, self.Phi+k3*self.h)\n",
        "        self.Phi += self.h/6*(k1+2*k2+2*k3+k4)\n",
        "\n",
        "\n",
        "    def solve(self):\n",
        "        for i in range(self.N_t):\n",
        "            self.PhiList[i,:] = self.Phi\n",
        "            self.tList[i] = self.t\n",
        "            self.RK_iterate()\n",
        "            self.t += self.h\n",
        "\n",
        "        return self.tList, self.PhiList\n",
        "\n",
        "\n",
        "    def sample(self, N_samp, noise_std): \n",
        "        '''\n",
        "        This function adds guassian noise to the simulated data and then samples\n",
        "        it\n",
        "        '''\n",
        "        PhiList = self.PhiList + np.random.randn(*self.PhiList.shape)*noise_std\n",
        "        samp_indeces = np.ceil(np.linspace(0,self.N_t-1,N_samp))\n",
        "        samp_indeces = samp_indeces.astype(\"int\")\n",
        "        return self.tList[samp_indeces], PhiList[samp_indeces,:]\n",
        "            \n",
        "\n",
        "\n",
        "\n"
      ],
      "metadata": {
        "id": "vls3A6qKcbht"
      },
      "execution_count": 213,
      "outputs": []
    },
    {
      "cell_type": "code",
      "source": [
        "paramDict = {\"p\":1,\n",
        "             \"q\":1,\n",
        "             \"r\":1,\n",
        "             \"s\":1,\n",
        "             \"rel\":0.5}\n",
        "\n",
        "configDict = {\"tmax\":10}\n",
        "\n",
        "initDict = {\"Phi0\": np.array([10,0,0], dtype=\"float\")}\n",
        "\n",
        "\n",
        "sys = System(paramDict, configDict, initDict)\n",
        "tList,PhiList = sys.solve()\n",
        "tListSamp, PhiListSamp = sys.sample(20,0.1)\n"
      ],
      "metadata": {
        "id": "j0eqcE0sdXH6"
      },
      "execution_count": 218,
      "outputs": []
    },
    {
      "cell_type": "code",
      "source": [
        "fig = plt.figure(figsize=(10,8))\n",
        "for i in range(3):\n",
        "    plt.plot(tList,PhiList[:,i], lw=4)\n",
        "    plt.plot(tListSamp, PhiListSamp[:,i],'ko')\n",
        "    plt.grid()"
      ],
      "metadata": {
        "colab": {
          "base_uri": "https://localhost:8080/",
          "height": 483
        },
        "id": "SgNv0oNEgcoh",
        "outputId": "569ccc93-3d14-4c1b-c04a-1b3a15c0c272"
      },
      "execution_count": 219,
      "outputs": [
        {
          "output_type": "display_data",
          "data": {
            "text/plain": [
              "<Figure size 720x576 with 1 Axes>"
            ],
            "image/png": "[encoded data removed]"
          },
          "metadata": {
            "needs_background": "light"
          }
        }
      ]
    },
    {
      "cell_type": "code",
      "source": [],
      "metadata": {
        "id": "Q5x6Yh-PhQli"
      },
      "execution_count": 215,
      "outputs": []
    },
    {
      "cell_type": "code",
      "source": [],
      "metadata": {
        "id": "6-CBhIhYhh-z"
      },
      "execution_count": 160,
      "outputs": []
    },
    {
      "cell_type": "code",
      "source": [],
      "metadata": {
        "id": "O3f2ZhZIlwtk"
      },
      "execution_count": 160,
      "outputs": []
    },
    {
      "cell_type": "code",
      "source": [],
      "metadata": {
        "id": "jJRO3TOonL93"
      },
      "execution_count": 160,
      "outputs": []
    },
    {
      "cell_type": "code",
      "source": [],
      "metadata": {
        "id": "Z1GrV-_WnqaQ"
      },
      "execution_count": 160,
      "outputs": []
    },
    {
      "cell_type": "code",
      "source": [],
      "metadata": {
        "id": "wXOKsmbRntKQ"
      },
      "execution_count": null,
      "outputs": []
    }
  ]
}