{
 "cells": [
  {
   "cell_type": "code",
   "execution_count": 2,
   "id": "9c391f0a-d487-449b-9203-7a3d1a5e4b20",
   "metadata": {},
   "outputs": [],
   "source": [
    "import numpy as np\n",
    "import matplotlib.pyplot as plt"
   ]
  },
  {
   "cell_type": "markdown",
   "id": "cb29a1da-7ce5-4874-aaad-89e3ec5b192b",
   "metadata": {},
   "source": [
    "## 2D Newton's method\n",
    "\n",
    "$X_{n+1} = X_{n} + \\frac{f(x_n)}{f'(x_n)}$\n",
    "\n",
    "$\\delta x = \\frac{f(x_n)}{f'(x_n)}$\n",
    "\n",
    "$\\rightarrow \\delta x = f(x_n) J^{-1}(x_n) $;\n",
    "\n",
    "$J(x_n)$ is the Jacobian matrix evaluated at $x_n$\n",
    "\n",
    "$f(x_n)$ is the vector function $\\rightarrow (f_1,f_2,f_3,...)$"
   ]
  },
  {
   "cell_type": "code",
   "execution_count": null,
   "id": "c6ecdcb6-b2bf-4434-8f75-b75026dcc6b6",
   "metadata": {},
   "outputs": [],
   "source": [
    "\n"
   ]
  },
  {
   "cell_type": "code",
   "execution_count": null,
   "id": "4f20554e-e86e-49ce-a08f-45d2ea8ce3f5",
   "metadata": {},
   "outputs": [],
   "source": []
  },
  {
   "cell_type": "code",
   "execution_count": null,
   "id": "5d7fea65-7a34-4dfc-8726-10eaa8f060d2",
   "metadata": {},
   "outputs": [],
   "source": []
  },
  {
   "cell_type": "code",
   "execution_count": null,
   "id": "d203fe63-9940-432b-9ce5-e5d8376b5146",
   "metadata": {},
   "outputs": [],
   "source": []
  }
 ],
 "metadata": {
  "kernelspec": {
   "display_name": "Python 3",
   "language": "python",
   "name": "python3"
  },
  "language_info": {
   "codemirror_mode": {
    "name": "ipython",
    "version": 3
   },
   "file_extension": ".py",
   "mimetype": "text/x-python",
   "name": "python",
   "nbconvert_exporter": "python",
   "pygments_lexer": "ipython3",
   "version": "3.6.13"
  }
 },
 "nbformat": 4,
 "nbformat_minor": 5
}
