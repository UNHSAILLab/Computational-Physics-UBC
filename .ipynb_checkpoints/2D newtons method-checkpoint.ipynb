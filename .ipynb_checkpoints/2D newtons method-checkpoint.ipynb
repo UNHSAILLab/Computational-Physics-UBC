{
 "cells": [
  {
   "cell_type": "markdown",
   "id": "00d4ad66-564f-49c9-9beb-61928d56ca78",
   "metadata": {},
   "source": [
    "import numpy as np\n",
    "import matplotlib.pyplot as plt"
   ]
  },
  {
   "cell_type": "markdown",
   "id": "cb29a1da-7ce5-4874-aaad-89e3ec5b192b",
   "metadata": {},
   "source": [
    "## 2D Newton's method\n",
    "\n",
    "\n",
    "Note: see the examples here: https://ece.uwaterloo.ca/~dwharder/NumericalAnalysis/10RootFinding/newtonND/\n",
    "\n",
    "\n",
    "$X_{n+1} = X_{n} + \\frac{f(x_n)}{f'(x_n)}$\n",
    "\n",
    "$\\delta x = \\frac{f(x_n)}{f'(x_n)}$\n",
    "\n",
    "$\\rightarrow \\delta x = f(x_n) J^{-1}(x_n) $;\n",
    "\n",
    "$J(x_n)$ is the Jacobian matrix evaluated at $x_n$\n",
    "\n",
    "$f(x_n)$ is the vector function $\\rightarrow (f_1,f_2,f_3,...)$"
   ]
  },
  {
   "cell_type": "markdown",
   "id": "b99cc941-e7a5-4c41-8dd4-8c3bace722c8",
   "metadata": {},
   "source": [
    "## Example 1\n",
    "$f_1(x,y) = x^2 + y^2 - 3 = 0$\n",
    "\n",
    "$f_2(x,y) = -2x^2 - 0.5y^2 + 2 = 0$\n",
    "\n",
    "\n",
    "Let's calcualte the Jacobian matrix\n",
    "\n",
    "\n",
    "\\begin{equation*}\n",
    "J_{2,2} = \n",
    "\\begin{pmatrix}\n",
    "\\partial_{x_1}f_1 & \\partial_{x_2}f_1 \\\\\n",
    "\\partial_{x_1}f_2 & \\partial_{x_2}f_2\n",
    "\\end{pmatrix}\n",
    "\\end{equation*}\n",
    "\n",
    "So we will have: \n",
    "\n",
    "\n",
    "\\begin{equation*}\n",
    "J_{2,2} = \n",
    "\\begin{pmatrix}\n",
    "2x & 2y \\\\\n",
    "-4x & -y\n",
    "\\end{pmatrix}\n",
    "\\end{equation*}\n",
    "\n",
    "and\n",
    "\n",
    "\\begin{equation*}\n",
    "F_{2,1} = \n",
    "\\begin{pmatrix}\n",
    "x^2+y^2-3\\\\\n",
    "-2x^2-0.5y^2+2\n",
    "\\end{pmatrix}\n",
    "\\end{equation*}\n",
    "\n"
   ]
  },
  {
   "cell_type": "code",
   "execution_count": 37,
   "id": "4f20554e-e86e-49ce-a08f-45d2ea8ce3f5",
   "metadata": {},
   "outputs": [],
   "source": [
    "def J(x,y):\n",
    "    return np.array([[2*x,2*y],[-4*x,-y]])\n",
    "\n",
    "def F(x,y):\n",
    "    return np.array([[x**2+y**2-3],[-2*x**2 - 0.5*y**2 + 2]])"
   ]
  },
  {
   "cell_type": "code",
   "execution_count": 53,
   "id": "5d7fea65-7a34-4dfc-8726-10eaa8f060d2",
   "metadata": {},
   "outputs": [],
   "source": [
    "x = 1\n",
    "y = 1\n",
    "iteration = 5\n",
    "\n",
    "for i in range(iteration):\n",
    "    deltaX = np.matmul(np.linalg.inv(J(x,y)),F(x,y))\n",
    "    x = x - deltaX[0][0]\n",
    "    y = y - deltaX[1][0]"
   ]
  },
  {
   "cell_type": "code",
   "execution_count": 54,
   "id": "d203fe63-9940-432b-9ce5-e5d8376b5146",
   "metadata": {},
   "outputs": [
    {
     "data": {
      "text/plain": [
       "(0.5773502691896257, 1.632993161855452)"
      ]
     },
     "execution_count": 54,
     "metadata": {},
     "output_type": "execute_result"
    }
   ],
   "source": [
    "x,y"
   ]
  },
  {
   "cell_type": "code",
   "execution_count": 55,
   "id": "032ae336-10a7-4c2f-bff1-11a16c3b9a00",
   "metadata": {},
   "outputs": [
    {
     "data": {
      "text/plain": [
       "array([[0.],\n",
       "       [0.]])"
      ]
     },
     "execution_count": 55,
     "metadata": {},
     "output_type": "execute_result"
    }
   ],
   "source": [
    "F(x,y)"
   ]
  },
  {
   "cell_type": "markdown",
   "id": "d1d58dc5-8823-43b8-b262-b1918ba89025",
   "metadata": {},
   "source": [
    "## Example 2"
   ]
  },
  {
   "cell_type": "markdown",
   "id": "1c52eb86-3a05-457c-9a0f-feecde599fbe",
   "metadata": {},
   "source": [
    "\n",
    "\\begin{equation*}\n",
    "J_{2,2} = \n",
    "\\begin{pmatrix}\n",
    "2x-y & 2y-x \\\\\n",
    "1-y& 1-x\n",
    "\\end{pmatrix}\n",
    "\\end{equation*}\n",
    "\n",
    "and\n",
    "\n",
    "\\begin{equation*}\n",
    "F_{2,1} = \n",
    "\\begin{pmatrix}\n",
    "x^2-xy+y^2-3\\\\\n",
    "x+y-xy\n",
    "\\end{pmatrix}\n",
    "\\end{equation*}\n"
   ]
  },
  {
   "cell_type": "code",
   "execution_count": 58,
   "id": "84a6705f-a1f5-4f27-a633-4895b59e7b2d",
   "metadata": {},
   "outputs": [],
   "source": [
    "def J(x,y):\n",
    "    return np.array([[2*x-y,2*y-x],[1-y,1-x]])\n",
    "\n",
    "def F(x,y):\n",
    "    return np.array([[x**2-x*y+y**2-3],[x+y-x*y]])"
   ]
  },
  {
   "cell_type": "code",
   "execution_count": 59,
   "id": "6dad8d9a-ceb1-4c3e-b0c1-e54b4ca7cba8",
   "metadata": {},
   "outputs": [],
   "source": [
    "x = -1.5\n",
    "y = 0.5\n",
    "iteration = 5\n",
    "\n",
    "for i in range(iteration):\n",
    "    deltaX = np.matmul(np.linalg.inv(J(x,y)),F(x,y))\n",
    "    x = x - deltaX[0][0]\n",
    "    y = y - deltaX[1][0]"
   ]
  },
  {
   "cell_type": "code",
   "execution_count": 60,
   "id": "018257be-a2c7-48f3-a561-1707fb6feeae",
   "metadata": {},
   "outputs": [
    {
     "data": {
      "text/plain": [
       "(-1.3692054070924666, 0.5779175596145465)"
      ]
     },
     "execution_count": 60,
     "metadata": {},
     "output_type": "execute_result"
    }
   ],
   "source": [
    "x,y"
   ]
  },
  {
   "cell_type": "code",
   "execution_count": 62,
   "id": "d0d4509a-31e4-439d-9956-f917695d93f9",
   "metadata": {},
   "outputs": [
    {
     "data": {
      "text/plain": [
       "(array([[ 4.44089210e-16],\n",
       "        [-1.11022302e-16]]),\n",
       " array([[ 0.00000000e+00],\n",
       "        [-1.11022302e-16]]))"
      ]
     },
     "execution_count": 62,
     "metadata": {},
     "output_type": "execute_result"
    }
   ],
   "source": [
    "F(x,y), F(y,x)"
   ]
  },
  {
   "cell_type": "code",
   "execution_count": null,
   "id": "b086c681-35a6-4dfd-afca-08244cffa975",
   "metadata": {},
   "outputs": [],
   "source": []
  }
 ],
 "metadata": {
  "kernelspec": {
   "display_name": "Python 3",
   "language": "python",
   "name": "python3"
  },
  "language_info": {
   "codemirror_mode": {
    "name": "ipython",
    "version": 3
   },
   "file_extension": ".py",
   "mimetype": "text/x-python",
   "name": "python",
   "nbconvert_exporter": "python",
   "pygments_lexer": "ipython3",
   "version": "3.6.13"
  }
 },
 "nbformat": 4,
 "nbformat_minor": 5
}
